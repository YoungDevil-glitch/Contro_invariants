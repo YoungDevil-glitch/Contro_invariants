{
 "cells": [
  {
   "cell_type": "code",
   "execution_count": 10,
   "id": "76ce6e75",
   "metadata": {},
   "outputs": [],
   "source": [
    "import numpy as np\n",
    "import matplotlib.pyplot as plt\n",
    "from Utils.Lower_closedset import pos_traj,pos_traj_up\n",
    "from Utils.invariant import computing_invariant2,computing_invariant,computing_invariant3\n",
    "from Utils.feasibility import is_feasible_rk4_case2,is_feasible_rk4_case1\n",
    "from Utils.solving_equation import RK4\n",
    "from Utils.Lower_closedset import pos_traj,pos_traj_up\n",
    "from Utils.utils import sampling_stepfunction,piecewise_step_function, step_function"
   ]
  },
  {
   "cell_type": "code",
   "execution_count": 11,
   "id": "98ee4a55",
   "metadata": {},
   "outputs": [
    {
     "name": "stdout",
     "output_type": "stream",
     "text": [
      "([array([30, 20]), array([29.8697193 , 20.02375952])], [0.0], 0)\n"
     ]
    }
   ],
   "source": [
    "A = 4.425\n",
    "H = 30\n",
    "a = 0.476\n",
    "K1 = 4.6\n",
    "K2 = 2\n",
    "u_min = 0\n",
    "u_max = 22\n",
    "w_min = -20\n",
    "w_max = 0\n",
    "g = 980\n",
    "X_matrix = - np.eye(2)*(a*np.sqrt(2*g))/A\n",
    "X_matrix[1, 0] = (a*np.sqrt(2*g))/A\n",
    "U_matrix = np.array([[K1, 0],[0, K2]])/A\n",
    "w_matrix = np.array([0,1])/A\n",
    "\n",
    "def f(x, u,w): \n",
    "    k = np.sqrt(x)\n",
    "    h = np.matmul(X_matrix, k) + np.matmul(U_matrix, u) + w_matrix.T*w\n",
    "    return h\n",
    "def g(x): \n",
    "    return ((x[0]<= 30 and x[1] <= 20)) and (x[0]>=0 and x[1]>=0)\n",
    "proj = lambda x : np.where(x < 0, 0 , x) \n",
    "T = 50\n",
    "h = 5.0\n",
    "x_0 = np.array([30, 20])\n",
    "N_step = 10\n",
    "N_euler = 1000\n",
    "\n",
    "u = lambda t: step_function(t,h,[np.array([u_min, u_min])])\n",
    "w = lambda t: step_function(t,h,[w_max])\n",
    "print(is_feasible_rk4_case2(x_0,u, w, T, N_euler*N_step, f, g, proj = proj))"
   ]
  },
  {
   "cell_type": "code",
   "execution_count": 38,
   "id": "1fde3746",
   "metadata": {},
   "outputs": [],
   "source": [
    "def f(x, u,w): \n",
    "    k = np.sqrt(x)\n",
    "    h = np.matmul(X_matrix, k) + np.matmul(U_matrix, u) + w_matrix.T*w\n",
    "    return h\n",
    "def g(x): \n",
    "    return ((x[0]<= 30 and x[1] <= 20)) and (x[0]>=0 and x[1]>=0)\n",
    "proj = lambda x : np.where(x < 0, 0 , x) \n",
    "T = 25\n",
    "h = 5.0\n",
    "x_0 = np.array([30, 20])\n",
    "Traj = computing_invariant(g, f, np.array([0,0]), 0, 0.5 , np.array([0,0]),np.array([30,20]), T = T, N_euler = 1000 , proj= proj)\n",
    "Traj_feas1, Traj_unsafe1, Traj_safe2 = computing_invariant3(g, f, np.array([0,0]), np.array([22,22]), 0, 0.5 , np.array([0,0]),np.array([30,20]), T = 2*T, N_euler = 1000 , proj= proj)"
   ]
  },
  {
   "cell_type": "code",
   "execution_count": 39,
   "id": "13bc372e",
   "metadata": {},
   "outputs": [
    {
     "name": "stdout",
     "output_type": "stream",
     "text": [
      "134 ms ± 6.7 ms per loop (mean ± std. dev. of 7 runs, 10 loops each)\n"
     ]
    }
   ],
   "source": [
    "%%timeit -n 10\n",
    "Traj_feas, Traj_unsafe, Traj_safe = computing_invariant2(g, f, np.array([0,0]), 0, 0.5 , np.array([0,0]),np.array([30,20]), T = T, N_euler = 1000 , proj= proj)"
   ]
  },
  {
   "cell_type": "code",
   "execution_count": 40,
   "id": "0d1528f4",
   "metadata": {},
   "outputs": [],
   "source": [
    "Traj_feas, Traj_unsafe, Traj_safe = computing_invariant2(g, f, np.array([0,0]),0, 0.5 , np.array([0,0]),np.array([30,20]), T = T, N_euler = 1000 , proj= proj)"
   ]
  },
  {
   "cell_type": "code",
   "execution_count": 41,
   "id": "562679da",
   "metadata": {},
   "outputs": [
    {
     "data": {
      "text/plain": [
       "[array([20., 20.]),\n",
       " array([26.5, 19.5]),\n",
       " array([29.5, 19. ]),\n",
       " array([30. , 18.5])]"
      ]
     },
     "execution_count": 41,
     "metadata": {},
     "output_type": "execute_result"
    }
   ],
   "source": [
    "[traj[0] for traj in Traj]"
   ]
  },
  {
   "cell_type": "code",
   "execution_count": 42,
   "id": "d6d70aa6",
   "metadata": {},
   "outputs": [
    {
     "data": {
      "text/plain": [
       "[array([20., 20.]),\n",
       " array([26.5, 19.5]),\n",
       " array([29.5, 19. ]),\n",
       " array([30. , 18.5])]"
      ]
     },
     "execution_count": 42,
     "metadata": {},
     "output_type": "execute_result"
    }
   ],
   "source": [
    "[traj[0][0] for traj in Traj_feas]"
   ]
  },
  {
   "cell_type": "code",
   "execution_count": 46,
   "id": "7e606abb",
   "metadata": {},
   "outputs": [
    {
     "data": {
      "text/plain": [
       "[array([20.5, 20. ]),\n",
       " array([26.5, 19.5]),\n",
       " array([29.5, 19. ]),\n",
       " array([30. , 18.5])]"
      ]
     },
     "execution_count": 46,
     "metadata": {},
     "output_type": "execute_result"
    }
   ],
   "source": [
    "[traj[0][0] for traj in Traj_feas1]"
   ]
  },
  {
   "cell_type": "code",
   "execution_count": 44,
   "id": "4dc4a09b",
   "metadata": {},
   "outputs": [
    {
     "data": {
      "text/plain": [
       "[0.0, 0.05]"
      ]
     },
     "execution_count": 44,
     "metadata": {},
     "output_type": "execute_result"
    }
   ],
   "source": [
    "Traj_feas1[i][1]"
   ]
  },
  {
   "cell_type": "code",
   "execution_count": 45,
   "id": "4f2bfaf4",
   "metadata": {},
   "outputs": [
    {
     "data": {
      "text/plain": [
       "[array([20.5, 20. ]),\n",
       " array([19.43605119, 19.99900439]),\n",
       " array([18.4004524 , 19.97005904])]"
      ]
     },
     "execution_count": 45,
     "metadata": {},
     "output_type": "execute_result"
    }
   ],
   "source": [
    "Traj_feas1[0][0]"
   ]
  },
  {
   "cell_type": "code",
   "execution_count": 49,
   "id": "4c674dea",
   "metadata": {},
   "outputs": [],
   "source": [
    "Traj = computing_invariant(g, f, np.array([0,0]), 0, 1 , np.array([0,0]),np.array([30,20]), T = T, N_euler = 1000 , proj= proj)"
   ]
  },
  {
   "cell_type": "code",
   "execution_count": 50,
   "id": "48fedd68",
   "metadata": {},
   "outputs": [
    {
     "name": "stdout",
     "output_type": "stream",
     "text": [
      "31 ms ± 960 µs per loop (mean ± std. dev. of 7 runs, 10 loops each)\n"
     ]
    }
   ],
   "source": [
    "%%timeit -n 10\n",
    "Traj_feas, Traj_unsafe, Traj_safe = computing_invariant2(g, f, np.array([0,0]), 0, 1 , np.array([0,0]),np.array([30,20]), T = T, N_euler = 1000 , proj= proj)"
   ]
  },
  {
   "cell_type": "code",
   "execution_count": 52,
   "id": "d30661cf",
   "metadata": {},
   "outputs": [],
   "source": [
    "Traj_feas, Traj_unsafe, Traj_safe = computing_invariant2(g, f, np.array([0,0]), 0, 1 , np.array([0,0]),np.array([30,20]), T = T, N_euler = 1000 , proj= proj)"
   ]
  },
  {
   "cell_type": "code",
   "execution_count": 53,
   "id": "d5cfd1ce",
   "metadata": {},
   "outputs": [
    {
     "data": {
      "text/plain": [
       "[array([20., 20.]), array([29., 19.]), array([30., 18.])]"
      ]
     },
     "execution_count": 53,
     "metadata": {},
     "output_type": "execute_result"
    }
   ],
   "source": [
    "[traj[0][0] for traj in Traj_feas]"
   ]
  },
  {
   "cell_type": "code",
   "execution_count": 54,
   "id": "e3e936d6",
   "metadata": {},
   "outputs": [],
   "source": [
    "x = np.linspace(0,20, 1001)\n",
    "y = np.linspace(0,30,1001)\n",
    "X,Y = np.meshgrid(x,y)\n",
    "Z = X.copy()\n",
    "for i in range(len(X)):\n",
    "    for j in range(len(X[0])):\n",
    "        s = 0\n",
    "        for traj in Traj_feas: \n",
    "            if (pos_traj([Y[i,j], X[i,j]], traj[0])): \n",
    "                s = 1\n",
    "                break\n",
    "        if s ==0: \n",
    "            for traj in Traj_unsafe: \n",
    "                if (pos_traj_up([Y[i,j], X[i,j]], traj[0])): \n",
    "                    s = 2\n",
    "                    break\n",
    "        Z[i,j] = s"
   ]
  },
  {
   "cell_type": "code",
   "execution_count": 55,
   "id": "fd937a46",
   "metadata": {},
   "outputs": [
    {
     "data": {
      "image/png": "[encoded data removed]",
      "text/plain": [
       "<Figure size 640x480 with 1 Axes>"
      ]
     },
     "metadata": {},
     "output_type": "display_data"
    }
   ],
   "source": [
    "fig, ax = plt.subplots()\n",
    "c = ax.pcolormesh(X, Y, Z, cmap='Set3_r')\n",
    "ax.set_title('Robust Controlled Invariant')\n",
    "# set the limits of the plot to the limits of the data\n",
    "ax.axis([x.min()-1, x.max()+1, x.min()-1, y.max()+1])\n",
    "for traj in Traj_feas: \n",
    "    ax.plot(np.array(traj[0])[:,1], np.array(traj[0])[:,0],'-', label = f'({traj[0][0][1]},{traj[0][0][0]})')\n",
    "\n",
    "axins = ax.inset_axes([0.3, 0.3, 0.4, 0.4])\n",
    "x1, x2, y1, y2 = 17, 20, 18, 31\n",
    "axins.set_xlim(x1, x2)\n",
    "axins.set_ylim(y1, y2)\n",
    "c = axins.pcolormesh(X, Y, Z, cmap='Set3_r')\n",
    "\n",
    "for traj in Traj_feas: \n",
    "    axins.plot(np.array(traj[0])[:,1], np.array(traj[0])[:,0],'-', label = f'({traj[0][0][1]},{traj[0][0][0]})')\n",
    "ax.indicate_inset_zoom(axins)\n",
    " \n",
    "    \n",
    "ax.set_xlabel(r\"$x_2$\")\n",
    "ax.set_ylabel(r\"$x_1$\")\n",
    "plt.show()"
   ]
  },
  {
   "cell_type": "code",
   "execution_count": null,
   "id": "605e8f98",
   "metadata": {},
   "outputs": [],
   "source": [
    "%%timeit\n",
    "Traj_feas, Traj_unsafe, Traj_safe = computing_invariant2(g, f, np.array([0,0]),0, 0.05 , np.array([0,0]),np.array([30,20]), T = T, N_euler = 1000 , proj= proj)"
   ]
  },
  {
   "cell_type": "code",
   "execution_count": null,
   "id": "f51a19d0",
   "metadata": {},
   "outputs": [],
   "source": [
    "Traj_feas, Traj_unsafe, Traj_safe = computing_invariant2(g, f, np.array([0,0]), 0, 0.05 , np.array([0,0]),np.array([30,20]), T = T, N_euler = 1000 , proj= proj)\n",
    "x = np.linspace(0,20, 1001)\n",
    "y = np.linspace(0,30,1001)\n",
    "X,Y = np.meshgrid(x,y)\n",
    "Z = X.copy()\n",
    "for i in range(len(X)):\n",
    "    for j in range(len(X[0])):\n",
    "        s = 0\n",
    "        for traj in Traj_feas: \n",
    "            if (pos_traj([Y[i,j], X[i,j]], traj[0])): \n",
    "                s = 1\n",
    "                break\n",
    "        if s ==0: \n",
    "            for traj in Traj_unsafe: \n",
    "                if (pos_traj_up([Y[i,j], X[i,j]], traj[0])): \n",
    "                    s = 2\n",
    "                    break\n",
    "        Z[i,j] = s"
   ]
  },
  {
   "cell_type": "code",
   "execution_count": null,
   "id": "3ffc45f8",
   "metadata": {},
   "outputs": [],
   "source": [
    "[traj[0][0] for traj in Traj_feas]"
   ]
  },
  {
   "cell_type": "code",
   "execution_count": null,
   "id": "0bec93d6",
   "metadata": {},
   "outputs": [],
   "source": [
    "fig, ax = plt.subplots()\n",
    "c = ax.pcolormesh(X, Y, Z, cmap='Set3_r')\n",
    "ax.set_title('RCI')\n",
    "# set the limits of the plot to the limits of the data\n",
    "ax.axis([x.min()-1, x.max()+1, x.min()-1, y.max()+1])\n",
    "for traj in Traj_feas: \n",
    "    ax.plot(np.array(traj[0])[:,1], np.array(traj[0])[:,0],'-', label = f'({traj[0][0][1]},{traj[0][0][0]})')\n",
    "\n",
    "axins = ax.inset_axes([0.1, 0.1, 0.4, 0.4])\n",
    "x1, x2, y1, y2 = 18.5, 19.5, 22, 31\n",
    "axins.set_xlim(x1, x2)\n",
    "axins.set_ylim(y1, y2)\n",
    "c = axins.pcolormesh(X, Y, Z, cmap='Set3_r')\n",
    "\n",
    "for traj in Traj_feas: \n",
    "    axins.plot(np.array(traj[0])[:,1], np.array(traj[0])[:,0],'-', label = f'({traj[0][0][1]},{traj[0][0][0]})')\n",
    "ax.indicate_inset_zoom(axins)\n",
    " \n",
    "    \n",
    "ax.set_xlabel(r\"$x_2$\")\n",
    "ax.set_ylabel(r\"$x_1$\")\n",
    "plt.show()"
   ]
  },
  {
   "cell_type": "code",
   "execution_count": null,
   "id": "21c7adeb",
   "metadata": {},
   "outputs": [],
   "source": [
    "%%timeit -n 10\n",
    "Traj_feas, Traj_unsafe, Traj_safe = computing_invariant2(g, f, np.array([0,0]), 0, 0.5 , np.array([0,0]),np.array([30,20]), T = T, N_euler = 1000 , proj= proj)"
   ]
  },
  {
   "cell_type": "code",
   "execution_count": null,
   "id": "83d1a0b2",
   "metadata": {},
   "outputs": [],
   "source": [
    "Traj_feas, Traj_unsafe, Traj_safe = computing_invariant2(g, f, np.array([0,0]), 0, 0.5 , np.array([0,0]),np.array([30,20]), T = T, N_euler = 1000 , proj= proj)\n",
    "x = np.linspace(0,20, 1001)\n",
    "y = np.linspace(0,30,1001)\n",
    "X,Y = np.meshgrid(x,y)\n",
    "Z = X.copy()\n",
    "for i in range(len(X)):\n",
    "    for j in range(len(X[0])):\n",
    "        s = 0\n",
    "        for traj in Traj_feas: \n",
    "            if (pos_traj([Y[i,j], X[i,j]], traj[0])): \n",
    "                s = 1\n",
    "                break\n",
    "        if s ==0: \n",
    "            for traj in Traj_unsafe: \n",
    "                if (pos_traj_up([Y[i,j], X[i,j]], traj[0])): \n",
    "                    s = 2\n",
    "                    break\n",
    "        Z[i,j] = s"
   ]
  },
  {
   "cell_type": "code",
   "execution_count": null,
   "id": "7c7a44a5",
   "metadata": {},
   "outputs": [],
   "source": [
    "[traj[0][0] for traj in Traj_feas]"
   ]
  },
  {
   "cell_type": "code",
   "execution_count": null,
   "id": "f820de5e",
   "metadata": {},
   "outputs": [],
   "source": [
    "fig, ax = plt.subplots()\n",
    "c = ax.pcolormesh(X, Y, Z, cmap='Set3_r')\n",
    "ax.set_title('Robust Controlled Invariant')\n",
    "# set the limits of the plot to the limits of the data\n",
    "ax.axis([x.min()-1, x.max()+1, x.min()-1, y.max()+1])\n",
    "for traj in Traj_feas: \n",
    "    ax.plot(np.array(traj[0])[:,1], np.array(traj[0])[:,0],'-', label = f'({traj[0][0][1]},{traj[0][0][0]})')\n",
    "\n",
    "axins = ax.inset_axes([0.3, 0.3, 0.4, 0.4])\n",
    "x1, x2, y1, y2 = 18, 20, 18, 31\n",
    "axins.set_xlim(x1, x2)\n",
    "axins.set_ylim(y1, y2)\n",
    "c = axins.pcolormesh(X, Y, Z, cmap='Set3_r')\n",
    "\n",
    "for traj in Traj_feas: \n",
    "    axins.plot(np.array(traj[0])[:,1], np.array(traj[0])[:,0],'-', label = f'({traj[0][0][1]},{traj[0][0][0]})')\n",
    "ax.indicate_inset_zoom(axins)\n",
    " \n",
    "    \n",
    "ax.set_xlabel(r\"$x_2$\")\n",
    "ax.set_ylabel(r\"$x_1$\")\n",
    "plt.show()"
   ]
  },
  {
   "cell_type": "code",
   "execution_count": null,
   "id": "43c7c090",
   "metadata": {},
   "outputs": [],
   "source": []
  }
 ],
 "metadata": {
  "kernelspec": {
   "display_name": "Python 3 (ipykernel)",
   "language": "python",
   "name": "python3"
  },
  "language_info": {
   "codemirror_mode": {
    "name": "ipython",
    "version": 3
   },
   "file_extension": ".py",
   "mimetype": "text/x-python",
   "name": "python",
   "nbconvert_exporter": "python",
   "pygments_lexer": "ipython3",
   "version": "3.9.13"
  }
 },
 "nbformat": 4,
 "nbformat_minor": 5
}
