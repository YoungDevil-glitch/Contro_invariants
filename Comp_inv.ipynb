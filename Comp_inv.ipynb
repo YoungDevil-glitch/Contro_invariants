{
 "cells": [
  {
   "cell_type": "code",
   "execution_count": 52,
   "id": "76ce6e75",
   "metadata": {},
   "outputs": [],
   "source": [
    "import numpy as np\n",
    "import matplotlib.pyplot as plt\n",
    "from matplotlib.patches import Rectangle\n",
    "from Utils.Lower_closedset import pos_traj,pos_traj_up\n",
    "from Utils.invariant import computing_invariant2,computing_invariant,computing_invariant3\n",
    "from Utils.feasibility import is_feasible_rk4_case2,is_feasible_rk4_case1\n",
    "from Utils.solving_equation import RK4\n",
    "from Utils.Lower_closedset import pos_traj,pos_traj_up\n",
    "from Utils.utils import sampling_stepfunction,piecewise_step_function, step_function"
   ]
  },
  {
   "cell_type": "code",
   "execution_count": 3,
   "id": "98ee4a55",
   "metadata": {},
   "outputs": [
    {
     "name": "stdout",
     "output_type": "stream",
     "text": [
      "([array([30, 20]), array([29.8697193 , 20.02375952])], [0.0], 0)\n"
     ]
    }
   ],
   "source": [
    "A = 4.425\n",
    "H = 30\n",
    "a = 0.476\n",
    "K1 = 4.6\n",
    "K2 = 2\n",
    "u_min = 0\n",
    "u_max = 22\n",
    "w_min = -20\n",
    "w_max = 0\n",
    "g = 980\n",
    "X_matrix = - np.eye(2)*(a*np.sqrt(2*g))/A\n",
    "X_matrix[1, 0] = (a*np.sqrt(2*g))/A\n",
    "U_matrix = np.array([[K1, 0],[0, K2]])/A\n",
    "w_matrix = np.array([0,1])/A\n",
    "#DYNAMICS \n",
    "def f(x, u,w): \n",
    "    k = np.sqrt(x)\n",
    "    h = np.matmul(X_matrix, k) + np.matmul(U_matrix, u) + w_matrix.T*w\n",
    "    return h\n",
    "#INDICATOR OF STATE CONSTRAINTS\n",
    "def g(x): \n",
    "    return ((x[0]<= 30 and x[1] <= 20)) and (x[0]>=0 and x[1]>=0)\n",
    "#eNFORCING sOME SYSTEMS HARD CONSTRAINTS\n",
    "proj = lambda x : np.where(x < 0, 0 , x) \n",
    "T = 50\n",
    "h = 5.0\n",
    "x_0 = np.array([30, 20])\n",
    "N_step = 10\n",
    "N_euler = 1000\n",
    "#CHECKING FOR FEASIBLE POINTS\n",
    "u = lambda t: step_function(t,h,[np.array([u_min, u_min])])\n",
    "w = lambda t: step_function(t,h,[w_max])\n",
    "print(is_feasible_rk4_case2(x_0,u, w, T, N_euler*N_step, f, g, proj = proj))"
   ]
  },
  {
   "cell_type": "code",
   "execution_count": 4,
   "id": "1fde3746",
   "metadata": {},
   "outputs": [],
   "source": [
    "def f(x, u,w): \n",
    "    k = np.sqrt(x)\n",
    "    h = np.matmul(X_matrix, k) + np.matmul(U_matrix, u) + w_matrix.T*w\n",
    "    return h\n",
    "def g(x): \n",
    "    return ((x[0]<= 30 and x[1] <= 20)) and (x[0]>=0 and x[1]>=0)\n",
    "proj = lambda x : np.where(x < 0, 0 , x) \n",
    "T = 25\n",
    "h = 5.\n"
   ]
  },
  {
   "cell_type": "markdown",
   "id": "912aa37c",
   "metadata": {},
   "source": [
    "$\\epsilon = 1 $"
   ]
  },
  {
   "cell_type": "code",
   "execution_count": null,
   "id": "8b415a8e",
   "metadata": {},
   "outputs": [],
   "source": [
    "epsilon = 1  \n",
    "x_0 = np.array([30, 20])\n"
   ]
  },
  {
   "cell_type": "code",
   "execution_count": 5,
   "id": "13bc372e",
   "metadata": {},
   "outputs": [
    {
     "name": "stdout",
     "output_type": "stream",
     "text": [
      "28.4 ms ± 1.21 ms per loop (mean ± std. dev. of 7 runs, 10 loops each)\n"
     ]
    }
   ],
   "source": [
    "%%timeit -n 10\n",
    "Traj_feas, Traj_unsafe, Traj_safe = computing_invariant2(g, f, np.array([0,0]), 0, epsilon , np.array([0,0]),np.array([30,20]), T = T, N_euler = 1000 , proj= proj)"
   ]
  },
  {
   "cell_type": "code",
   "execution_count": 7,
   "id": "cfbadc79",
   "metadata": {},
   "outputs": [
    {
     "name": "stdout",
     "output_type": "stream",
     "text": [
      "1.49 s ± 29.7 ms per loop (mean ± std. dev. of 7 runs, 10 loops each)\n"
     ]
    }
   ],
   "source": [
    "%%timeit -n 10\n",
    "Traj = computing_invariant(g, f, np.array([0,0]), 0, epsilon, np.array([0,0]),np.array([30,20]), T = T, N_euler = 1000 , proj= proj)"
   ]
  },
  {
   "cell_type": "code",
   "execution_count": 8,
   "id": "437f4495",
   "metadata": {},
   "outputs": [
    {
     "name": "stdout",
     "output_type": "stream",
     "text": [
      "175 ms ± 3.24 ms per loop (mean ± std. dev. of 7 runs, 10 loops each)\n"
     ]
    }
   ],
   "source": [
    "%%timeit -n 10\n",
    "Traj_feas1, Traj_unsafe1, Traj_safe2 = computing_invariant3(g, f, np.array([0,0]), np.array([22,22]), 0, epsilon , np.array([0,0]),np.array([30,20]), T = 2*T, N_euler = 1000 , proj= proj)"
   ]
  },
  {
   "cell_type": "code",
   "execution_count": 10,
   "id": "0d1528f4",
   "metadata": {},
   "outputs": [],
   "source": [
    "Traj = computing_invariant(g, f, np.array([0,0]), 0, epsilon, np.array([0,0]),np.array([30,20]), T = T, N_euler = 1000 , proj= proj)\n",
    "Traj_feas1, Traj_unsafe1, Traj_safe2 = computing_invariant3(g, f, np.array([0,0]), np.array([22,22]), 0, epsilon , np.array([0,0]),np.array([30,20]), T = 2*T, N_euler = 1000 , proj= proj)\n",
    "Traj_feas, Traj_unsafe, Traj_safe = computing_invariant2(g, f, np.array([0,0]),0, epsilon , np.array([0,0]),np.array([30,20]), T = T, N_euler = 1000 , proj= proj)"
   ]
  },
  {
   "cell_type": "code",
   "execution_count": 11,
   "id": "562679da",
   "metadata": {},
   "outputs": [
    {
     "data": {
      "text/plain": [
       "[array([20., 20.]), array([29., 19.]), array([30., 18.])]"
      ]
     },
     "execution_count": 11,
     "metadata": {},
     "output_type": "execute_result"
    }
   ],
   "source": [
    "[traj[0] for traj in Traj]"
   ]
  },
  {
   "cell_type": "code",
   "execution_count": 12,
   "id": "d6d70aa6",
   "metadata": {},
   "outputs": [
    {
     "data": {
      "text/plain": [
       "[array([20., 20.]), array([29., 19.]), array([30., 18.])]"
      ]
     },
     "execution_count": 12,
     "metadata": {},
     "output_type": "execute_result"
    }
   ],
   "source": [
    "[traj[0][0] for traj in Traj_feas]"
   ]
  },
  {
   "cell_type": "code",
   "execution_count": 13,
   "id": "19bc83d8",
   "metadata": {},
   "outputs": [
    {
     "data": {
      "text/plain": [
       "[array([20., 20.]), array([29., 19.]), array([30., 18.])]"
      ]
     },
     "execution_count": 13,
     "metadata": {},
     "output_type": "execute_result"
    }
   ],
   "source": [
    "[traj[0][0] for traj in Traj_feas1]"
   ]
  },
  {
   "cell_type": "markdown",
   "id": "b0da6e0c",
   "metadata": {},
   "source": [
    "## All 3 methods gaves the same results"
   ]
  },
  {
   "cell_type": "code",
   "execution_count": 37,
   "id": "e3e936d6",
   "metadata": {},
   "outputs": [],
   "source": [
    "x = np.linspace(0,20, 1001)\n",
    "y = np.linspace(0,30,1001)\n",
    "X,Y = np.meshgrid(x,y)\n",
    "Z = X.copy()\n",
    "for i in range(len(X)):\n",
    "    for j in range(len(X[0])):\n",
    "        s = 0\n",
    "        for traj in Traj_feas: \n",
    "            if (pos_traj([Y[i,j], X[i,j]], traj[0])): \n",
    "                s = 1\n",
    "                break\n",
    "        if s ==0: \n",
    "            for traj in Traj_unsafe: \n",
    "                if (pos_traj_up([Y[i,j], X[i,j]], traj[0])): \n",
    "                    s = 2\n",
    "                    break\n",
    "        Z[i,j] = s"
   ]
  },
  {
   "cell_type": "code",
   "execution_count": 65,
   "id": "0df31899",
   "metadata": {},
   "outputs": [],
   "source": [
    "?Rectangle"
   ]
  },
  {
   "cell_type": "code",
   "execution_count": 99,
   "id": "78b961b6",
   "metadata": {},
   "outputs": [],
   "source": [
    "color = ['#1F77B4', '#FE8213', '#2CA02C']"
   ]
  },
  {
   "cell_type": "code",
   "execution_count": 100,
   "id": "fd937a46",
   "metadata": {},
   "outputs": [
    {
     "data": {
      "image/png": "[encoded data removed]",
      "text/plain": [
       "<Figure size 640x480 with 1 Axes>"
      ]
     },
     "metadata": {},
     "output_type": "display_data"
    }
   ],
   "source": [
    "fig, ax = plt.subplots()\n",
    "c = ax.pcolormesh(X, Y, Z, cmap='Set3_r')\n",
    "ax.set_title('Robust Controlled Invariant')\n",
    "# set the limits of the plot to the limits of the data\n",
    "ax.axis([x.min()-0.1, x.max()+0.1, x.min()-1, y.max()+1])\n",
    "ax.add_patch(Rectangle((0, 0), 20, 30, fill = False, edgecolor='k', lw=1))\n",
    "axins = ax.inset_axes([0.15,0.15,0.4, 0.6])\n",
    "x1, x2, y1, y2 = 17, 20.1, 18.5, 30.5\n",
    "axins.set_xlim(x1, x2)\n",
    "axins.set_ylim(y1, y2)\n",
    "c = axins.pcolormesh(X, Y, Z, cmap='Set3_r')\n",
    "s = 0\n",
    "for traj in Traj_feas: \n",
    "    n = len(traj[0])//2\n",
    "    x3 = np.array(traj[0])[n,1]\n",
    "    y3 =  np.array(traj[0])[n,0]\n",
    "    dx = np.array(traj[0])[n+1,1] - x3\n",
    "    dy = np.array(traj[0])[n+1,0]-y3\n",
    "    ax.plot(np.array(traj[0])[:,1], np.array(traj[0])[:,0],'-', label = f'({traj[0][0][1]},{traj[0][0][0]})', c = color[s])\n",
    "    axins.plot(np.array(traj[0])[:,1], np.array(traj[0])[:,0],'-', label = f'({traj[0][0][1]},{traj[0][0][0]})',c = color[s]) \n",
    "    axins.scatter([np.array(traj[0])[0,1]], [np.array(traj[0])[0,0]],marker='x', color = color[s])\n",
    "    axins.arrow(x3,y3, dx,dy , shape='full', lw=0, length_includes_head=True, head_width= 0.25, color = color[s] )\n",
    "    s+=1\n",
    "    \n",
    "ax.indicate_inset_zoom(axins)\n",
    "  \n",
    "ax.set_xlabel(r\"$x_2$\")\n",
    "ax.set_ylabel(r\"$x_1$\")\n",
    "plt.show()"
   ]
  },
  {
   "cell_type": "markdown",
   "id": "a807de94",
   "metadata": {},
   "source": [
    "$\\epsilon = 0.5$"
   ]
  },
  {
   "cell_type": "code",
   "execution_count": 101,
   "id": "f2006ba7",
   "metadata": {},
   "outputs": [],
   "source": [
    "epsilon = 0.5  \n"
   ]
  },
  {
   "cell_type": "code",
   "execution_count": 102,
   "id": "6506f268",
   "metadata": {},
   "outputs": [
    {
     "name": "stdout",
     "output_type": "stream",
     "text": [
      "133 ms ± 3.43 ms per loop (mean ± std. dev. of 7 runs, 10 loops each)\n"
     ]
    }
   ],
   "source": [
    "%%timeit -n 10\n",
    "Traj_feas, Traj_unsafe, Traj_safe = computing_invariant2(g, f, np.array([0,0]), 0, epsilon , np.array([0,0]),np.array([30,20]), T = T, N_euler = 1000 , proj= proj)"
   ]
  },
  {
   "cell_type": "code",
   "execution_count": 103,
   "id": "51e108dc",
   "metadata": {},
   "outputs": [
    {
     "name": "stdout",
     "output_type": "stream",
     "text": [
      "4.85 s ± 384 ms per loop (mean ± std. dev. of 7 runs, 10 loops each)\n"
     ]
    }
   ],
   "source": [
    "%%timeit -n 10\n",
    "Traj = computing_invariant(g, f, np.array([0,0]), 0, epsilon, np.array([0,0]),np.array([30,20]), T = T, N_euler = 1000 , proj= proj)"
   ]
  },
  {
   "cell_type": "code",
   "execution_count": 104,
   "id": "d0d8ef3e",
   "metadata": {},
   "outputs": [
    {
     "name": "stdout",
     "output_type": "stream",
     "text": [
      "516 ms ± 8.19 ms per loop (mean ± std. dev. of 7 runs, 10 loops each)\n"
     ]
    }
   ],
   "source": [
    "%%timeit -n 10\n",
    "Traj_feas1, Traj_unsafe1, Traj_safe2 = computing_invariant3(g, f, np.array([0,0]), np.array([22,22]), 0, epsilon , np.array([0,0]),np.array([30,20]), T = 2*T, N_euler = 1000 , proj= proj)"
   ]
  },
  {
   "cell_type": "code",
   "execution_count": 108,
   "id": "7148d7b7",
   "metadata": {},
   "outputs": [],
   "source": [
    "Traj = computing_invariant(g, f, np.array([0,0]), 0, epsilon, np.array([0,0]),np.array([30,20]), T = T, N_euler = 1000 , proj= proj)\n",
    "Traj_feas1, Traj_unsafe1, Traj_safe2 = computing_invariant3(g, f, np.array([0,0]), np.array([22,22]), 0, epsilon , np.array([0,0]),np.array([30,20]), T = 2*T, N_euler = 1000 , proj= proj)\n",
    "Traj_feas, Traj_unsafe, Traj_safe = computing_invariant2(g, f, np.array([0,0]),0, epsilon , np.array([0,0]),np.array([30,20]), T = T, N_euler = 1000 , proj= proj)"
   ]
  },
  {
   "cell_type": "code",
   "execution_count": 109,
   "id": "017512a6",
   "metadata": {},
   "outputs": [
    {
     "data": {
      "text/plain": [
       "[array([20., 20.]),\n",
       " array([26.5, 19.5]),\n",
       " array([29.5, 19. ]),\n",
       " array([30. , 18.5])]"
      ]
     },
     "execution_count": 109,
     "metadata": {},
     "output_type": "execute_result"
    }
   ],
   "source": [
    "[traj[0] for traj in Traj]"
   ]
  },
  {
   "cell_type": "code",
   "execution_count": 119,
   "id": "7aaf62cb",
   "metadata": {},
   "outputs": [
    {
     "data": {
      "text/plain": [
       "[array([20., 20.]),\n",
       " array([26.5, 19.5]),\n",
       " array([29.5, 19. ]),\n",
       " array([30. , 18.5])]"
      ]
     },
     "execution_count": 119,
     "metadata": {},
     "output_type": "execute_result"
    }
   ],
   "source": [
    "[traj[0][0] for traj in Traj_feas]"
   ]
  },
  {
   "cell_type": "code",
   "execution_count": 111,
   "id": "21d295a9",
   "metadata": {},
   "outputs": [
    {
     "data": {
      "text/plain": [
       "[array([20., 20.]),\n",
       " array([26.5, 19.5]),\n",
       " array([29.5, 19. ]),\n",
       " array([30. , 18.5])]"
      ]
     },
     "execution_count": 111,
     "metadata": {},
     "output_type": "execute_result"
    }
   ],
   "source": [
    "[traj[0][0] for traj in Traj_feas1]"
   ]
  },
  {
   "cell_type": "code",
   "execution_count": 112,
   "id": "83d1a0b2",
   "metadata": {},
   "outputs": [],
   "source": [
    "x = np.linspace(0,20, 1001)\n",
    "y = np.linspace(0,30,1001)\n",
    "X,Y = np.meshgrid(x,y)\n",
    "Z = X.copy()\n",
    "for i in range(len(X)):\n",
    "    for j in range(len(X[0])):\n",
    "        s = 0\n",
    "        for traj in Traj_feas: \n",
    "            if (pos_traj([Y[i,j], X[i,j]], traj[0])): \n",
    "                s = 1\n",
    "                break\n",
    "        if s ==0: \n",
    "            for traj in Traj_unsafe: \n",
    "                if (pos_traj_up([Y[i,j], X[i,j]], traj[0])): \n",
    "                    s = 2\n",
    "                    break\n",
    "        Z[i,j] = s"
   ]
  },
  {
   "cell_type": "code",
   "execution_count": 118,
   "id": "f820de5e",
   "metadata": {},
   "outputs": [
    {
     "data": {
      "image/png": "[encoded data removed]",
      "text/plain": [
       "<Figure size 640x480 with 1 Axes>"
      ]
     },
     "metadata": {},
     "output_type": "display_data"
    }
   ],
   "source": [
    "color = ['#1F77B4', '#FE8213', '#2CA02C','#D62728']\n",
    "fig, ax = plt.subplots()\n",
    "c = ax.pcolormesh(X, Y, Z, cmap='Set3_r')\n",
    "ax.set_title('Robust Controlled Invariant')\n",
    "# set the limits of the plot to the limits of the data\n",
    "ax.axis([x.min()-0.1, x.max()+0.1, x.min()-1, y.max()+1])\n",
    "ax.add_patch(Rectangle((0, 0), 20, 30, fill = False, edgecolor='k', lw=1))\n",
    "axins = ax.inset_axes([0.15,0.15,0.3, 0.6])\n",
    "x1, x2, y1, y2 = 18, 20.1, 18.5, 30.5\n",
    "axins.set_xlim(x1, x2)\n",
    "axins.set_ylim(y1, y2)\n",
    "c = axins.pcolormesh(X, Y, Z, cmap='Set3_r')\n",
    "s = 0\n",
    "for traj in Traj_feas: \n",
    "    n = len(traj[0])//2\n",
    "    x3 = np.array(traj[0])[n,1]\n",
    "    y3 =  np.array(traj[0])[n,0]\n",
    "    dx = np.array(traj[0])[n+1,1] - x3\n",
    "    dy = np.array(traj[0])[n+1,0]-y3\n",
    "    ax.plot(np.array(traj[0])[:,1], np.array(traj[0])[:,0],'-', label = f'({traj[0][0][1]},{traj[0][0][0]})', c = color[s])\n",
    "    axins.plot(np.array(traj[0])[:,1], np.array(traj[0])[:,0],'-', label = f'({traj[0][0][1]},{traj[0][0][0]})',c = color[s]) \n",
    "    axins.scatter([np.array(traj[0])[0,1]], [np.array(traj[0])[0,0]],marker='x', color = color[s])\n",
    "    axins.arrow(x3,y3, dx,dy , shape='full', lw=0, length_includes_head=True, head_width= 0.25, color = color[s] )\n",
    "    s+=1\n",
    "    \n",
    "ax.indicate_inset_zoom(axins)\n",
    "  \n",
    "ax.set_xlabel(r\"$x_2$\")\n",
    "ax.set_ylabel(r\"$x_1$\")\n",
    "plt.show()"
   ]
  },
  {
   "cell_type": "markdown",
   "id": "fb31a16a",
   "metadata": {},
   "source": [
    "# Not included in the paper but an easy test \n",
    "$\\epsilon = 0.1$"
   ]
  },
  {
   "cell_type": "code",
   "execution_count": 120,
   "id": "ee68a9bf",
   "metadata": {},
   "outputs": [],
   "source": [
    "epsilon = 0.1  "
   ]
  },
  {
   "cell_type": "code",
   "execution_count": 121,
   "id": "255752a1",
   "metadata": {},
   "outputs": [
    {
     "name": "stdout",
     "output_type": "stream",
     "text": [
      "12 s ± 232 ms per loop (mean ± std. dev. of 7 runs, 10 loops each)\n"
     ]
    }
   ],
   "source": [
    "%%timeit -n 10\n",
    "Traj_feas, Traj_unsafe, Traj_safe = computing_invariant2(g, f, np.array([0,0]), 0, epsilon , np.array([0,0]),np.array([30,20]), T = T, N_euler = 1000 , proj= proj)"
   ]
  },
  {
   "cell_type": "code",
   "execution_count": 122,
   "id": "87f47e22",
   "metadata": {},
   "outputs": [
    {
     "name": "stdout",
     "output_type": "stream",
     "text": [
      "3min 41s ± 6.52 s per loop (mean ± std. dev. of 7 runs, 10 loops each)\n"
     ]
    }
   ],
   "source": [
    "%%timeit -n 10\n",
    "Traj = computing_invariant(g, f, np.array([0,0]), 0, epsilon, np.array([0,0]),np.array([30,20]), T = T, N_euler = 1000 , proj= proj)"
   ]
  },
  {
   "cell_type": "code",
   "execution_count": 123,
   "id": "6e01a7d5",
   "metadata": {},
   "outputs": [
    {
     "name": "stdout",
     "output_type": "stream",
     "text": [
      "50 s ± 117 ms per loop (mean ± std. dev. of 7 runs, 10 loops each)\n"
     ]
    }
   ],
   "source": [
    "%%timeit -n 10\n",
    "Traj_feas1, Traj_unsafe1, Traj_safe2 = computing_invariant3(g, f, np.array([0,0]), np.array([22,22]), 0, epsilon , np.array([0,0]),np.array([30,20]), T = 2*T, N_euler = 1000 , proj= proj)"
   ]
  },
  {
   "cell_type": "code",
   "execution_count": 124,
   "id": "14f4754c",
   "metadata": {},
   "outputs": [],
   "source": [
    "Traj = computing_invariant(g, f, np.array([0,0]), 0, epsilon, np.array([0,0]),np.array([30,20]), T = T, N_euler = 1000 , proj= proj)\n",
    "Traj_feas1, Traj_unsafe1, Traj_safe2 = computing_invariant3(g, f, np.array([0,0]), np.array([22,22]), 0, epsilon , np.array([0,0]),np.array([30,20]), T = 2*T, N_euler = 1000 , proj= proj)\n",
    "Traj_feas, Traj_unsafe, Traj_safe = computing_invariant2(g, f, np.array([0,0]),0, epsilon , np.array([0,0]),np.array([30,20]), T = T, N_euler = 1000 , proj= proj)"
   ]
  },
  {
   "cell_type": "code",
   "execution_count": 125,
   "id": "677236bc",
   "metadata": {},
   "outputs": [
    {
     "data": {
      "text/plain": [
       "[array([20.2, 20. ]),\n",
       " array([22.8, 19.9]),\n",
       " array([24.1, 19.8]),\n",
       " array([25. , 19.7]),\n",
       " array([25.9, 19.6]),\n",
       " array([26.6, 19.5]),\n",
       " array([27.3, 19.4]),\n",
       " array([27.9, 19.3]),\n",
       " array([28.4, 19.2]),\n",
       " array([29. , 19.1]),\n",
       " array([29.5, 19. ]),\n",
       " array([30. , 18.9])]"
      ]
     },
     "execution_count": 125,
     "metadata": {},
     "output_type": "execute_result"
    }
   ],
   "source": [
    "[traj[0] for traj in Traj]"
   ]
  },
  {
   "cell_type": "code",
   "execution_count": 126,
   "id": "77b78c44",
   "metadata": {},
   "outputs": [
    {
     "data": {
      "text/plain": [
       "[array([20.2, 20. ]),\n",
       " array([22.8, 19.9]),\n",
       " array([24.1, 19.8]),\n",
       " array([25. , 19.7]),\n",
       " array([25.9, 19.6]),\n",
       " array([26.6, 19.5]),\n",
       " array([27.3, 19.4]),\n",
       " array([27.9, 19.3]),\n",
       " array([28.4, 19.2]),\n",
       " array([29. , 19.1]),\n",
       " array([29.5, 19. ]),\n",
       " array([30. , 18.9])]"
      ]
     },
     "execution_count": 126,
     "metadata": {},
     "output_type": "execute_result"
    }
   ],
   "source": [
    "[traj[0][0] for traj in Traj_feas]"
   ]
  },
  {
   "cell_type": "code",
   "execution_count": 127,
   "id": "1ff6718d",
   "metadata": {},
   "outputs": [
    {
     "data": {
      "text/plain": [
       "[array([20., 20.]),\n",
       " array([22.8, 19.9]),\n",
       " array([24.1, 19.8]),\n",
       " array([25. , 19.7]),\n",
       " array([25.9, 19.6]),\n",
       " array([26.6, 19.5]),\n",
       " array([27.2, 19.4]),\n",
       " array([27.9, 19.3]),\n",
       " array([28.4, 19.2]),\n",
       " array([29. , 19.1]),\n",
       " array([29.5, 19. ]),\n",
       " array([30. , 18.9])]"
      ]
     },
     "execution_count": 127,
     "metadata": {},
     "output_type": "execute_result"
    }
   ],
   "source": [
    "[traj[0][0] for traj in Traj_feas1]"
   ]
  },
  {
   "cell_type": "code",
   "execution_count": null,
   "id": "f51a19d0",
   "metadata": {},
   "outputs": [],
   "source": [
    "x = np.linspace(0,20, 1001)\n",
    "y = np.linspace(0,30,1001)\n",
    "X,Y = np.meshgrid(x,y)\n",
    "Z = X.copy()\n",
    "for i in range(len(X)):\n",
    "    for j in range(len(X[0])):\n",
    "        s = 0\n",
    "        for traj in Traj_feas: \n",
    "            if (pos_traj([Y[i,j], X[i,j]], traj[0])): \n",
    "                s = 1\n",
    "                break\n",
    "        if s ==0: \n",
    "            for traj in Traj_unsafe: \n",
    "                if (pos_traj_up([Y[i,j], X[i,j]], traj[0])): \n",
    "                    s = 2\n",
    "                    break\n",
    "        Z[i,j] = s"
   ]
  },
  {
   "cell_type": "code",
   "execution_count": null,
   "id": "0bec93d6",
   "metadata": {},
   "outputs": [],
   "source": [
    "fig, ax = plt.subplots()\n",
    "c = ax.pcolormesh(X, Y, Z, cmap='Set3_r')\n",
    "ax.set_title('RCI')\n",
    "# set the limits of the plot to the limits of the data\n",
    "ax.axis([x.min()-1, x.max()+1, x.min()-1, y.max()+1])\n",
    "for traj in Traj_feas: \n",
    "    ax.plot(np.array(traj[0])[:,1], np.array(traj[0])[:,0],'-', label = f'({traj[0][0][1]},{traj[0][0][0]})')\n",
    "\n",
    "axins = ax.inset_axes([0.1, 0.1, 0.4, 0.4])\n",
    "x1, x2, y1, y2 = 18.5, 19.5, 22, 31\n",
    "axins.set_xlim(x1, x2)\n",
    "axins.set_ylim(y1, y2)\n",
    "c = axins.pcolormesh(X, Y, Z, cmap='Set3_r')\n",
    "\n",
    "for traj in Traj_feas: \n",
    "    axins.plot(np.array(traj[0])[:,1], np.array(traj[0])[:,0],'-', label = f'({traj[0][0][1]},{traj[0][0][0]})')\n",
    "ax.indicate_inset_zoom(axins)\n",
    " \n",
    "    \n",
    "ax.set_xlabel(r\"$x_2$\")\n",
    "ax.set_ylabel(r\"$x_1$\")\n",
    "plt.show()"
   ]
  },
  {
   "cell_type": "code",
   "execution_count": null,
   "id": "43c7c090",
   "metadata": {},
   "outputs": [],
   "source": []
  }
 ],
 "metadata": {
  "kernelspec": {
   "display_name": "Python 3 (ipykernel)",
   "language": "python",
   "name": "python3"
  },
  "language_info": {
   "codemirror_mode": {
    "name": "ipython",
    "version": 3
   },
   "file_extension": ".py",
   "mimetype": "text/x-python",
   "name": "python",
   "nbconvert_exporter": "python",
   "pygments_lexer": "ipython3",
   "version": "3.9.13"
  }
 },
 "nbformat": 4,
 "nbformat_minor": 5
}
